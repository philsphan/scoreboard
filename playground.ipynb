{
 "cells": [
  {
   "cell_type": "code",
   "execution_count": 22,
   "metadata": {},
   "outputs": [
    {
     "name": "stdout",
     "output_type": "stream",
     "text": [
      "GamePK for current Phillies game: 717408\n"
     ]
    }
   ],
   "source": [
    "import requests\n",
    "import datetime\n",
    "\n",
    "games_url = 'http://statsapi.mlb.com/api/v1/schedule/games/?sportId=1'\n",
    "result = requests.get(games_url)\n",
    "games = result.json()['dates'][0]['games']\n",
    "\n",
    "# ID for Philadelphia Phillies\n",
    "phillies_id = 143\n",
    "\n",
    "# Get current date in UTC\n",
    "current_date_utc = datetime.datetime.utcnow()\n",
    "\n",
    "for game in games:\n",
    "    # Check if the game involves the Phillies and the game date is today\n",
    "    home_team_id = game['teams']['home']['team']['id']\n",
    "    away_team_id = game['teams']['away']['team']['id']\n",
    "    \n",
    "    game_date = datetime.datetime.strptime(game['gameDate'], \"%Y-%m-%dT%H:%M:%SZ\")\n",
    "\n",
    "    if (home_team_id == phillies_id or away_team_id == phillies_id) and game_date.date() == current_date_utc.date():\n",
    "        print(f\"GamePK for current Phillies game: {game['gamePk']}\")\n",
    "        game_pk = game['gamePk']\n",
    "        break"
   ]
  },
  {
   "cell_type": "code",
   "execution_count": 52,
   "metadata": {},
   "outputs": [
    {
     "name": "stdout",
     "output_type": "stream",
     "text": [
      "Live     1 2 3 4 5 6 7 8 9  R   H   E  \n",
      "Padres   0 3 0 0 0 0        3   6   0  \n",
      "Phillies 0 0 0 0 0 0        0   4   0  \n"
     ]
    }
   ],
   "source": [
    "print(statsapi.linescore(game_pk))"
   ]
  },
  {
   "cell_type": "markdown",
   "metadata": {},
   "source": [
    "# Endpoint documentation\n",
    "\n",
    "See this page for more info on MLB API endpoints (e.g. how to call linescore)\n",
    "\n",
    "https://github.com/toddrob99/MLB-StatsAPI/blob/master/statsapi/endpoints.py"
   ]
  }
 ],
 "metadata": {
  "kernelspec": {
   "display_name": ".venv",
   "language": "python",
   "name": "python3"
  },
  "language_info": {
   "codemirror_mode": {
    "name": "ipython",
    "version": 3
   },
   "file_extension": ".py",
   "mimetype": "text/x-python",
   "name": "python",
   "nbconvert_exporter": "python",
   "pygments_lexer": "ipython3",
   "version": "3.11.3"
  },
  "orig_nbformat": 4
 },
 "nbformat": 4,
 "nbformat_minor": 2
}
