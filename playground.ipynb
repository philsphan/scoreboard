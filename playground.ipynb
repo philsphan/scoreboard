{
 "cells": [
  {
   "cell_type": "code",
   "execution_count": 67,
   "metadata": {},
   "outputs": [
    {
     "name": "stdout",
     "output_type": "stream",
     "text": [
      "Game ID for current Phillies game: 717408\n",
      "Home Team: Philadelphia Phillies\n",
      "Away Team: San Diego Padres\n"
     ]
    }
   ],
   "source": [
    "import requests\n",
    "import datetime\n",
    "\n",
    "def get_current_game_info(team_id):\n",
    "    games_url = 'http://statsapi.mlb.com/api/v1/schedule/games/?sportId=1'\n",
    "    result = requests.get(games_url)\n",
    "    games = result.json()['dates'][0]['games']\n",
    "\n",
    "    # Get current date in UTC\n",
    "    current_date_utc = datetime.datetime.utcnow()\n",
    "\n",
    "    for game in games:\n",
    "        home_team_id = game['teams']['home']['team']['id']\n",
    "        away_team_id = game['teams']['away']['team']['id']\n",
    "        \n",
    "        game_date = datetime.datetime.strptime(game['gameDate'], \"%Y-%m-%dT%H:%M:%SZ\")\n",
    "\n",
    "        if (home_team_id == team_id or away_team_id == team_id) and game_date.date() == current_date_utc.date():\n",
    "            home_team_name = game['teams']['home']['team']['name']\n",
    "            away_team_name = game['teams']['away']['team']['name']\n",
    "            game_pk = game['gamePk']\n",
    "            return game_pk, home_team_name, away_team_name\n",
    "\n",
    "    # Return None if no game is found\n",
    "    return None, None, None\n",
    "\n",
    "# ID for Philadelphia Phillies\n",
    "phillies_id = 143\n",
    "\n",
    "game_id, home_team, away_team = get_current_game_info(phillies_id)\n",
    "\n",
    "if game_id is not None:\n",
    "    print(f\"Game ID for current Phillies game: {game_id}\")\n",
    "    print(f\"Home Team: {home_team}\")\n",
    "    print(f\"Away Team: {away_team}\")\n",
    "else:\n",
    "    print(\"No game found for the Philadelphia Phillies today.\")"
   ]
  },
  {
   "cell_type": "code",
   "execution_count": 68,
   "metadata": {},
   "outputs": [
    {
     "data": {
      "text/plain": [
       "{1: {'home_runs': 0, 'away_runs': 0},\n",
       " 2: {'home_runs': 0, 'away_runs': 3},\n",
       " 3: {'home_runs': 0, 'away_runs': 0},\n",
       " 4: {'home_runs': 0, 'away_runs': 0},\n",
       " 5: {'home_runs': 0, 'away_runs': 0},\n",
       " 6: {'home_runs': 2, 'away_runs': 0},\n",
       " 7: {'home_runs': 1, 'away_runs': 0},\n",
       " 8: {'home_runs': 3, 'away_runs': 1},\n",
       " 9: {'home_runs': 0, 'away_runs': 0},\n",
       " 'general': {'balls': 1, 'strikes': 1, 'outs': 3},\n",
       " 'onBase': {'first': True, 'second': True, 'third': True},\n",
       " 'total': {'home': {'runs': 6, 'hits': 10, 'errors': 0},\n",
       "  'away': {'runs': 4, 'hits': 9, 'errors': 1}}}"
      ]
     },
     "execution_count": 68,
     "metadata": {},
     "output_type": "execute_result"
    }
   ],
   "source": [
    "import requests\n",
    "\n",
    "def get_game_info(api_url):\n",
    "    response = requests.get(api_url)\n",
    "    json_data = response.json()\n",
    "\n",
    "    game_info = {}\n",
    "\n",
    "    # get list of innings from json\n",
    "    innings = json_data.get('innings', [])\n",
    "\n",
    "    # iterate over each inning\n",
    "    for inning in innings:\n",
    "        inning_num = inning['num']\n",
    "\n",
    "        # get the home and away runs for each inning\n",
    "        home_runs = inning['home'].get('runs', 0)\n",
    "        away_runs = inning['away'].get('runs', 0)\n",
    "\n",
    "        game_info[inning_num] = {\n",
    "            'home_runs': home_runs,\n",
    "            'away_runs': away_runs,\n",
    "        }\n",
    "\n",
    "    # General game info\n",
    "    game_info['general'] = {\n",
    "        'balls': json_data.get('balls', 0),\n",
    "        'strikes': json_data.get('strikes', 0),\n",
    "        'outs': json_data.get('outs', 0),\n",
    "    }\n",
    "\n",
    "    # Extract info about who's on base\n",
    "    game_info['onBase'] = {\n",
    "        'first': bool(json_data.get('defense', {}).get('first', {})),\n",
    "        'second': bool(json_data.get('defense', {}).get('second', {})),\n",
    "        'third': bool(json_data.get('defense', {}).get('third', {})),\n",
    "    }\n",
    "\n",
    "    # Total runs, hits, and errors for each team\n",
    "    game_info['total'] = {\n",
    "        'home': {\n",
    "            'runs': json_data.get('teams', {}).get('home', {}).get('runs', 0),\n",
    "            'hits': json_data.get('teams', {}).get('home', {}).get('hits', 0),\n",
    "            'errors': json_data.get('teams', {}).get('home', {}).get('errors', 0),\n",
    "        },\n",
    "        'away': {\n",
    "            'runs': json_data.get('teams', {}).get('away', {}).get('runs', 0),\n",
    "            'hits': json_data.get('teams', {}).get('away', {}).get('hits', 0),\n",
    "            'errors': json_data.get('teams', {}).get('away', {}).get('errors', 0),\n",
    "        }\n",
    "    }\n",
    "\n",
    "    return game_info\n",
    "\n",
    "# Example usage:\n",
    "api_url = 'https://statsapi.mlb.com/api/v1/game/717408/linescore'\n",
    "game_info = get_game_info(api_url)\n",
    "\n",
    "game_info"
   ]
  },
  {
   "cell_type": "markdown",
   "metadata": {},
   "source": [
    "# Endpoint documentation\n",
    "\n",
    "See this page for more info on MLB API endpoints (e.g. how to call linescore)\n",
    "\n",
    "https://github.com/toddrob99/MLB-StatsAPI/blob/master/statsapi/endpoints.py"
   ]
  }
 ],
 "metadata": {
  "kernelspec": {
   "display_name": ".venv",
   "language": "python",
   "name": "python3"
  },
  "language_info": {
   "codemirror_mode": {
    "name": "ipython",
    "version": 3
   },
   "file_extension": ".py",
   "mimetype": "text/x-python",
   "name": "python",
   "nbconvert_exporter": "python",
   "pygments_lexer": "ipython3",
   "version": "3.11.3"
  },
  "orig_nbformat": 4
 },
 "nbformat": 4,
 "nbformat_minor": 2
}
